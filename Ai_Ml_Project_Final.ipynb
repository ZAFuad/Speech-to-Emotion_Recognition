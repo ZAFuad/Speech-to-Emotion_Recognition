{
  "nbformat": 4,
  "nbformat_minor": 0,
  "metadata": {
    "colab": {
      "provenance": []
    },
    "kernelspec": {
      "name": "python3",
      "display_name": "Python 3"
    },
    "language_info": {
      "name": "python"
    }
  },
  "cells": [
    {
      "cell_type": "markdown",
      "source": [
        "https://data-flair.training/blogs/python-mini-project-speech-emotion-recognition/\n",
        "\n",
        "\n",
        "dataset: https://drive.google.com/drive/folders/1e4W5LRNDOOHlUNUTzqHM1zpsbLi9kr5f?usp=sharing"
      ],
      "metadata": {
        "id": "A3BCHNIXTZ6K"
      }
    },
    {
      "cell_type": "code",
      "source": [
        "from google.colab import drive\n",
        "drive.mount('/content/drive')"
      ],
      "metadata": {
        "id": "KFrPb64LOWOo",
        "colab": {
          "base_uri": "https://localhost:8080/"
        },
        "outputId": "531c0a70-d444-44ab-981c-74ce5cdcd87f"
      },
      "execution_count": null,
      "outputs": [
        {
          "output_type": "stream",
          "name": "stdout",
          "text": [
            "Drive already mounted at /content/drive; to attempt to forcibly remount, call drive.mount(\"/content/drive\", force_remount=True).\n"
          ]
        }
      ]
    },
    {
      "cell_type": "code",
      "execution_count": null,
      "metadata": {
        "id": "dSxnj_TvVepG"
      },
      "outputs": [],
      "source": [
        "import os\n",
        "Root = \"/content/drive/MyDrive/Ai_Ml_Project/speech-emotion-recognition-ravdess-data\"\n",
        "os.chdir(Root)"
      ]
    },
    {
      "cell_type": "code",
      "source": [
        "import librosa\n",
        "import soundfile\n",
        "import os, glob, pickle\n",
        "import numpy as np\n",
        "import pandas as pd\n",
        "from sklearn.model_selection import train_test_split\n",
        "from sklearn.neural_network import MLPClassifier\n",
        "from sklearn.metrics import accuracy_score, f1_score"
      ],
      "metadata": {
        "id": "cJtgxDfUV1na"
      },
      "execution_count": null,
      "outputs": []
    },
    {
      "cell_type": "code",
      "source": [
        "#Extract features (mfcc, chroma, mel) from a sound file\n",
        "def extract_feature(file_name, mfcc, chroma, mel):\n",
        "    with soundfile.SoundFile(file_name) as sound_file:\n",
        "        X = sound_file.read(dtype=\"float32\")\n",
        "        sample_rate=sound_file.samplerate\n",
        "        if chroma:\n",
        "            stft=np.abs(librosa.stft(X))\n",
        "        result=np.array([])\n",
        "        if mfcc:\n",
        "            mfccs=np.mean(librosa.feature.mfcc(y=X, sr=sample_rate, n_mfcc=40).T, axis=0)\n",
        "            result=np.hstack((result, mfccs))\n",
        "        if chroma:\n",
        "            chroma=np.mean(librosa.feature.chroma_stft(S=stft, sr=sample_rate).T,axis=0)\n",
        "            result=np.hstack((result, chroma))\n",
        "        if mel:\n",
        "            mel=np.mean(librosa.feature.melspectrogram(X, sr=sample_rate).T,axis=0)\n",
        "            result=np.hstack((result, mel))\n",
        "    return result"
      ],
      "metadata": {
        "id": "4Q5YobtVWW08"
      },
      "execution_count": null,
      "outputs": []
    },
    {
      "cell_type": "code",
      "source": [
        "# Emotions in the RAVDESS dataset\n",
        "emotions={\n",
        "  '01':'neutral',\n",
        "  '02':'calm',\n",
        "  '03':'happy',\n",
        "  '04':'sad',\n",
        "  '05':'angry',\n",
        "  '06':'fearful',\n",
        "  '07':'disgust',\n",
        "  '08':'surprised'\n",
        "}\n",
        "\n",
        "#Emotions to observe\n",
        "observed_emotions=['calm', 'happy', 'fearful', 'disgust', 'surprised']"
      ],
      "metadata": {
        "id": "wypQfdV5Witt"
      },
      "execution_count": null,
      "outputs": []
    },
    {
      "cell_type": "code",
      "source": [
        "#Load the data and extract features for each sound file\n",
        "def load_data(test_size=0.25):\n",
        "    x,y=[],[]\n",
        "    for file in glob.glob(\"/content/drive/MyDrive/Ai_Ml_Project/speech-emotion-recognition-ravdess-data//Actor_*//*.wav\"):\n",
        "        file_name=os.path.basename(file)\n",
        "        emotion=emotions[file_name.split(\"-\")[2]]\n",
        "        if emotion not in observed_emotions:\n",
        "            continue\n",
        "        feature=extract_feature(file, mfcc=True, chroma=True, mel=True)\n",
        "        x.append(feature)\n",
        "        y.append(emotion)\n",
        "    return train_test_split(np.array(x), y, test_size=test_size, random_state=9)"
      ],
      "metadata": {
        "id": "wG-sn-xXWyCF"
      },
      "execution_count": null,
      "outputs": []
    },
    {
      "cell_type": "code",
      "source": [
        "#Split the dataset\n",
        "x_train,x_test,y_train,y_test=load_data(test_size=0.25)"
      ],
      "metadata": {
        "id": "q73SaIhTXDv_"
      },
      "execution_count": null,
      "outputs": []
    },
    {
      "cell_type": "code",
      "source": [
        "x_train"
      ],
      "metadata": {
        "colab": {
          "base_uri": "https://localhost:8080/"
        },
        "id": "0DmTOFEhYbPg",
        "outputId": "ff282731-3362-4fb9-8ad9-312d86d5efaa"
      },
      "execution_count": null,
      "outputs": [
        {
          "output_type": "execute_result",
          "data": {
            "text/plain": [
              "array([[-4.77166077e+02,  6.01137733e+01, -3.15369296e+00, ...,\n",
              "         7.71646097e-04,  1.00887730e-03,  6.25238463e-04],\n",
              "       [-5.73132751e+02,  3.18506718e+01, -8.54179955e+00, ...,\n",
              "         1.03158131e-03,  6.40605518e-04,  2.01104325e-04],\n",
              "       [-6.37922302e+02,  2.80745201e+01, -3.96908331e+00, ...,\n",
              "         1.30701606e-04,  1.49514613e-04,  1.19012620e-04],\n",
              "       ...,\n",
              "       [-5.17250671e+02,  3.25498238e+01, -1.96352844e+01, ...,\n",
              "         1.20064768e-04,  7.11390458e-05,  4.11658039e-05],\n",
              "       [-5.88087830e+02,  4.46294594e+01, -1.47748652e+01, ...,\n",
              "         9.03716063e-05,  1.91249419e-05,  1.12573052e-05],\n",
              "       [-6.01231934e+02,  4.61873779e+01, -1.52429905e+01, ...,\n",
              "         1.04361658e-04,  6.08918417e-05,  8.39796194e-05]])"
            ]
          },
          "metadata": {},
          "execution_count": 50
        }
      ]
    },
    {
      "cell_type": "code",
      "source": [
        "#Get the shape of the training and testing datasets\n",
        "print((x_train.shape[0], x_test.shape[0]))\n",
        "\n",
        "#Get the number of features extracted\n",
        "print(f'Features extracted: {x_train.shape[1]}')"
      ],
      "metadata": {
        "colab": {
          "base_uri": "https://localhost:8080/"
        },
        "id": "SwWiF04VYhzf",
        "outputId": "3ba66cdb-0ef3-44ed-f8e9-1389e0c88e0e"
      },
      "execution_count": null,
      "outputs": [
        {
          "output_type": "stream",
          "name": "stdout",
          "text": [
            "(720, 240)\n",
            "Features extracted: 180\n"
          ]
        }
      ]
    },
    {
      "cell_type": "code",
      "source": [
        "#Initialize the Multi Layer Perceptron Classifier\n",
        "model=MLPClassifier(alpha=0.01, batch_size=256, epsilon=1e-08, hidden_layer_sizes=(450,), learning_rate='adaptive', max_iter=1000)\n",
        "\n",
        "\n",
        "#Train the model\n",
        "model.fit(x_train,y_train)"
      ],
      "metadata": {
        "colab": {
          "base_uri": "https://localhost:8080/"
        },
        "id": "DFQZexyEYsGv",
        "outputId": "02c96335-d583-4e7c-c55a-d124de2c6097"
      },
      "execution_count": null,
      "outputs": [
        {
          "output_type": "execute_result",
          "data": {
            "text/plain": [
              "MLPClassifier(alpha=0.01, batch_size=256, hidden_layer_sizes=(450,),\n",
              "              learning_rate='adaptive', max_iter=1000)"
            ]
          },
          "metadata": {},
          "execution_count": 52
        }
      ]
    },
    {
      "cell_type": "code",
      "source": [
        "#Predict for the test set\n",
        "y_pred=model.predict(x_test)\n",
        "\n",
        "y_pred"
      ],
      "metadata": {
        "colab": {
          "base_uri": "https://localhost:8080/"
        },
        "id": "UT-IEBPZQNbF",
        "outputId": "b2bd7f57-e253-4279-a5b5-7d1a320d9a4d"
      },
      "execution_count": null,
      "outputs": [
        {
          "output_type": "execute_result",
          "data": {
            "text/plain": [
              "array(['calm', 'surprised', 'surprised', 'happy', 'happy', 'calm',\n",
              "       'disgust', 'calm', 'surprised', 'calm', 'surprised', 'happy',\n",
              "       'fearful', 'surprised', 'happy', 'surprised', 'disgust', 'calm',\n",
              "       'disgust', 'happy', 'calm', 'happy', 'disgust', 'fearful',\n",
              "       'fearful', 'happy', 'calm', 'happy', 'happy', 'fearful', 'calm',\n",
              "       'happy', 'surprised', 'calm', 'calm', 'surprised', 'calm', 'happy',\n",
              "       'surprised', 'disgust', 'surprised', 'disgust', 'surprised',\n",
              "       'calm', 'happy', 'happy', 'surprised', 'happy', 'calm',\n",
              "       'surprised', 'disgust', 'happy', 'happy', 'disgust', 'calm',\n",
              "       'happy', 'calm', 'happy', 'happy', 'fearful', 'calm', 'calm',\n",
              "       'calm', 'disgust', 'disgust', 'calm', 'disgust', 'happy', 'calm',\n",
              "       'fearful', 'fearful', 'fearful', 'fearful', 'surprised',\n",
              "       'surprised', 'surprised', 'happy', 'surprised', 'calm', 'fearful',\n",
              "       'happy', 'fearful', 'happy', 'disgust', 'surprised', 'fearful',\n",
              "       'disgust', 'fearful', 'happy', 'calm', 'happy', 'surprised',\n",
              "       'happy', 'fearful', 'fearful', 'calm', 'disgust', 'happy',\n",
              "       'disgust', 'calm', 'surprised', 'happy', 'calm', 'happy',\n",
              "       'disgust', 'calm', 'surprised', 'fearful', 'surprised',\n",
              "       'surprised', 'happy', 'surprised', 'happy', 'disgust', 'calm',\n",
              "       'calm', 'happy', 'surprised', 'fearful', 'calm', 'calm', 'calm',\n",
              "       'happy', 'calm', 'happy', 'calm', 'happy', 'fearful', 'disgust',\n",
              "       'happy', 'calm', 'surprised', 'fearful', 'surprised', 'calm',\n",
              "       'happy', 'disgust', 'happy', 'fearful', 'fearful', 'fearful',\n",
              "       'happy', 'fearful', 'surprised', 'calm', 'happy', 'happy', 'happy',\n",
              "       'happy', 'surprised', 'fearful', 'disgust', 'fearful', 'fearful',\n",
              "       'fearful', 'fearful', 'happy', 'happy', 'fearful', 'calm', 'calm',\n",
              "       'surprised', 'happy', 'calm', 'disgust', 'calm', 'calm', 'happy',\n",
              "       'happy', 'calm', 'calm', 'fearful', 'fearful', 'calm', 'disgust',\n",
              "       'calm', 'fearful', 'calm', 'surprised', 'disgust', 'disgust',\n",
              "       'calm', 'surprised', 'fearful', 'calm', 'fearful', 'calm',\n",
              "       'surprised', 'calm', 'surprised', 'surprised', 'calm', 'surprised',\n",
              "       'fearful', 'happy', 'happy', 'happy', 'happy', 'fearful',\n",
              "       'fearful', 'happy', 'fearful', 'calm', 'fearful', 'disgust',\n",
              "       'surprised', 'happy', 'happy', 'surprised', 'surprised',\n",
              "       'surprised', 'fearful', 'disgust', 'calm', 'happy', 'surprised',\n",
              "       'surprised', 'surprised', 'disgust', 'fearful', 'fearful', 'calm',\n",
              "       'surprised', 'surprised', 'disgust', 'fearful', 'surprised',\n",
              "       'calm', 'surprised', 'fearful', 'fearful', 'surprised',\n",
              "       'surprised', 'disgust', 'calm', 'fearful', 'happy', 'happy',\n",
              "       'fearful', 'calm'], dtype='<U9')"
            ]
          },
          "metadata": {},
          "execution_count": 53
        }
      ]
    },
    {
      "cell_type": "code",
      "source": [
        "#Calculate the accuracy of our model\n",
        "accuracy=accuracy_score(y_true=y_test, y_pred=y_pred)\n",
        "\n",
        "#Print the accuracy\n",
        "print(\"Accuracy: {:.2f}%\".format(accuracy*100))"
      ],
      "metadata": {
        "colab": {
          "base_uri": "https://localhost:8080/"
        },
        "id": "tXIYoVYnQUVd",
        "outputId": "4863e8af-88f0-493f-85d7-873882bdf078"
      },
      "execution_count": null,
      "outputs": [
        {
          "output_type": "stream",
          "name": "stdout",
          "text": [
            "Accuracy: 68.33%\n"
          ]
        }
      ]
    },
    {
      "cell_type": "code",
      "source": [
        "f1_score(y_test, y_pred,average=None)"
      ],
      "metadata": {
        "colab": {
          "base_uri": "https://localhost:8080/"
        },
        "id": "Fm3KOYzORp_W",
        "outputId": "06440e4a-c546-4ad3-dc72-8fe9d5fb21cb"
      },
      "execution_count": null,
      "outputs": [
        {
          "output_type": "execute_result",
          "data": {
            "text/plain": [
              "array([0.86238532, 0.6       , 0.65882353, 0.57407407, 0.68518519])"
            ]
          },
          "metadata": {},
          "execution_count": 55
        }
      ]
    },
    {
      "cell_type": "code",
      "source": [
        "df=pd.DataFrame({'Actual': y_test, 'Predicted':y_pred})\n",
        "df.head(20)"
      ],
      "metadata": {
        "colab": {
          "base_uri": "https://localhost:8080/",
          "height": 677
        },
        "id": "1zHgOA7MRtVP",
        "outputId": "dd9726d6-20f1-405c-9329-401ffb512b9a"
      },
      "execution_count": null,
      "outputs": [
        {
          "output_type": "execute_result",
          "data": {
            "text/plain": [
              "       Actual  Predicted\n",
              "0        calm       calm\n",
              "1   surprised  surprised\n",
              "2   surprised  surprised\n",
              "3       happy      happy\n",
              "4     fearful      happy\n",
              "5        calm       calm\n",
              "6     disgust    disgust\n",
              "7        calm       calm\n",
              "8   surprised  surprised\n",
              "9        calm       calm\n",
              "10  surprised  surprised\n",
              "11      happy      happy\n",
              "12    disgust    fearful\n",
              "13  surprised  surprised\n",
              "14      happy      happy\n",
              "15  surprised  surprised\n",
              "16    disgust    disgust\n",
              "17       calm       calm\n",
              "18  surprised    disgust\n",
              "19      happy      happy"
            ],
            "text/html": [
              "\n",
              "  <div id=\"df-318cdf42-d30e-425a-804d-4d656d4430e7\">\n",
              "    <div class=\"colab-df-container\">\n",
              "      <div>\n",
              "<style scoped>\n",
              "    .dataframe tbody tr th:only-of-type {\n",
              "        vertical-align: middle;\n",
              "    }\n",
              "\n",
              "    .dataframe tbody tr th {\n",
              "        vertical-align: top;\n",
              "    }\n",
              "\n",
              "    .dataframe thead th {\n",
              "        text-align: right;\n",
              "    }\n",
              "</style>\n",
              "<table border=\"1\" class=\"dataframe\">\n",
              "  <thead>\n",
              "    <tr style=\"text-align: right;\">\n",
              "      <th></th>\n",
              "      <th>Actual</th>\n",
              "      <th>Predicted</th>\n",
              "    </tr>\n",
              "  </thead>\n",
              "  <tbody>\n",
              "    <tr>\n",
              "      <th>0</th>\n",
              "      <td>calm</td>\n",
              "      <td>calm</td>\n",
              "    </tr>\n",
              "    <tr>\n",
              "      <th>1</th>\n",
              "      <td>surprised</td>\n",
              "      <td>surprised</td>\n",
              "    </tr>\n",
              "    <tr>\n",
              "      <th>2</th>\n",
              "      <td>surprised</td>\n",
              "      <td>surprised</td>\n",
              "    </tr>\n",
              "    <tr>\n",
              "      <th>3</th>\n",
              "      <td>happy</td>\n",
              "      <td>happy</td>\n",
              "    </tr>\n",
              "    <tr>\n",
              "      <th>4</th>\n",
              "      <td>fearful</td>\n",
              "      <td>happy</td>\n",
              "    </tr>\n",
              "    <tr>\n",
              "      <th>5</th>\n",
              "      <td>calm</td>\n",
              "      <td>calm</td>\n",
              "    </tr>\n",
              "    <tr>\n",
              "      <th>6</th>\n",
              "      <td>disgust</td>\n",
              "      <td>disgust</td>\n",
              "    </tr>\n",
              "    <tr>\n",
              "      <th>7</th>\n",
              "      <td>calm</td>\n",
              "      <td>calm</td>\n",
              "    </tr>\n",
              "    <tr>\n",
              "      <th>8</th>\n",
              "      <td>surprised</td>\n",
              "      <td>surprised</td>\n",
              "    </tr>\n",
              "    <tr>\n",
              "      <th>9</th>\n",
              "      <td>calm</td>\n",
              "      <td>calm</td>\n",
              "    </tr>\n",
              "    <tr>\n",
              "      <th>10</th>\n",
              "      <td>surprised</td>\n",
              "      <td>surprised</td>\n",
              "    </tr>\n",
              "    <tr>\n",
              "      <th>11</th>\n",
              "      <td>happy</td>\n",
              "      <td>happy</td>\n",
              "    </tr>\n",
              "    <tr>\n",
              "      <th>12</th>\n",
              "      <td>disgust</td>\n",
              "      <td>fearful</td>\n",
              "    </tr>\n",
              "    <tr>\n",
              "      <th>13</th>\n",
              "      <td>surprised</td>\n",
              "      <td>surprised</td>\n",
              "    </tr>\n",
              "    <tr>\n",
              "      <th>14</th>\n",
              "      <td>happy</td>\n",
              "      <td>happy</td>\n",
              "    </tr>\n",
              "    <tr>\n",
              "      <th>15</th>\n",
              "      <td>surprised</td>\n",
              "      <td>surprised</td>\n",
              "    </tr>\n",
              "    <tr>\n",
              "      <th>16</th>\n",
              "      <td>disgust</td>\n",
              "      <td>disgust</td>\n",
              "    </tr>\n",
              "    <tr>\n",
              "      <th>17</th>\n",
              "      <td>calm</td>\n",
              "      <td>calm</td>\n",
              "    </tr>\n",
              "    <tr>\n",
              "      <th>18</th>\n",
              "      <td>surprised</td>\n",
              "      <td>disgust</td>\n",
              "    </tr>\n",
              "    <tr>\n",
              "      <th>19</th>\n",
              "      <td>happy</td>\n",
              "      <td>happy</td>\n",
              "    </tr>\n",
              "  </tbody>\n",
              "</table>\n",
              "</div>\n",
              "      <button class=\"colab-df-convert\" onclick=\"convertToInteractive('df-318cdf42-d30e-425a-804d-4d656d4430e7')\"\n",
              "              title=\"Convert this dataframe to an interactive table.\"\n",
              "              style=\"display:none;\">\n",
              "        \n",
              "  <svg xmlns=\"http://www.w3.org/2000/svg\" height=\"24px\"viewBox=\"0 0 24 24\"\n",
              "       width=\"24px\">\n",
              "    <path d=\"M0 0h24v24H0V0z\" fill=\"none\"/>\n",
              "    <path d=\"M18.56 5.44l.94 2.06.94-2.06 2.06-.94-2.06-.94-.94-2.06-.94 2.06-2.06.94zm-11 1L8.5 8.5l.94-2.06 2.06-.94-2.06-.94L8.5 2.5l-.94 2.06-2.06.94zm10 10l.94 2.06.94-2.06 2.06-.94-2.06-.94-.94-2.06-.94 2.06-2.06.94z\"/><path d=\"M17.41 7.96l-1.37-1.37c-.4-.4-.92-.59-1.43-.59-.52 0-1.04.2-1.43.59L10.3 9.45l-7.72 7.72c-.78.78-.78 2.05 0 2.83L4 21.41c.39.39.9.59 1.41.59.51 0 1.02-.2 1.41-.59l7.78-7.78 2.81-2.81c.8-.78.8-2.07 0-2.86zM5.41 20L4 18.59l7.72-7.72 1.47 1.35L5.41 20z\"/>\n",
              "  </svg>\n",
              "      </button>\n",
              "      \n",
              "  <style>\n",
              "    .colab-df-container {\n",
              "      display:flex;\n",
              "      flex-wrap:wrap;\n",
              "      gap: 12px;\n",
              "    }\n",
              "\n",
              "    .colab-df-convert {\n",
              "      background-color: #E8F0FE;\n",
              "      border: none;\n",
              "      border-radius: 50%;\n",
              "      cursor: pointer;\n",
              "      display: none;\n",
              "      fill: #1967D2;\n",
              "      height: 32px;\n",
              "      padding: 0 0 0 0;\n",
              "      width: 32px;\n",
              "    }\n",
              "\n",
              "    .colab-df-convert:hover {\n",
              "      background-color: #E2EBFA;\n",
              "      box-shadow: 0px 1px 2px rgba(60, 64, 67, 0.3), 0px 1px 3px 1px rgba(60, 64, 67, 0.15);\n",
              "      fill: #174EA6;\n",
              "    }\n",
              "\n",
              "    [theme=dark] .colab-df-convert {\n",
              "      background-color: #3B4455;\n",
              "      fill: #D2E3FC;\n",
              "    }\n",
              "\n",
              "    [theme=dark] .colab-df-convert:hover {\n",
              "      background-color: #434B5C;\n",
              "      box-shadow: 0px 1px 3px 1px rgba(0, 0, 0, 0.15);\n",
              "      filter: drop-shadow(0px 1px 2px rgba(0, 0, 0, 0.3));\n",
              "      fill: #FFFFFF;\n",
              "    }\n",
              "  </style>\n",
              "\n",
              "      <script>\n",
              "        const buttonEl =\n",
              "          document.querySelector('#df-318cdf42-d30e-425a-804d-4d656d4430e7 button.colab-df-convert');\n",
              "        buttonEl.style.display =\n",
              "          google.colab.kernel.accessAllowed ? 'block' : 'none';\n",
              "\n",
              "        async function convertToInteractive(key) {\n",
              "          const element = document.querySelector('#df-318cdf42-d30e-425a-804d-4d656d4430e7');\n",
              "          const dataTable =\n",
              "            await google.colab.kernel.invokeFunction('convertToInteractive',\n",
              "                                                     [key], {});\n",
              "          if (!dataTable) return;\n",
              "\n",
              "          const docLinkHtml = 'Like what you see? Visit the ' +\n",
              "            '<a target=\"_blank\" href=https://colab.research.google.com/notebooks/data_table.ipynb>data table notebook</a>'\n",
              "            + ' to learn more about interactive tables.';\n",
              "          element.innerHTML = '';\n",
              "          dataTable['output_type'] = 'display_data';\n",
              "          await google.colab.output.renderOutput(dataTable, element);\n",
              "          const docLink = document.createElement('div');\n",
              "          docLink.innerHTML = docLinkHtml;\n",
              "          element.appendChild(docLink);\n",
              "        }\n",
              "      </script>\n",
              "    </div>\n",
              "  </div>\n",
              "  "
            ]
          },
          "metadata": {},
          "execution_count": 56
        }
      ]
    },
    {
      "cell_type": "code",
      "source": [
        "import pickle\n",
        "# Writing different model files to file\n",
        "with open( 'modelForPrediction1.sav', 'wb') as f:\n",
        "    pickle.dump(model,f)"
      ],
      "metadata": {
        "id": "CAxhU28eR36v"
      },
      "execution_count": null,
      "outputs": []
    },
    {
      "cell_type": "code",
      "source": [
        "filename = 'modelForPrediction1.sav'\n",
        "loaded_model = pickle.load(open(filename, 'rb')) # loading the model file from the storage\n",
        "\n",
        "feature=extract_feature(\"/content/drive/MyDrive/Ai_Ml_Project/speech-emotion-recognition-ravdess-data/ndata07.wav\", mfcc=True, chroma=True, mel=True)\n",
        "\n",
        "feature=feature.reshape(1,-1)\n",
        "\n",
        "prediction=loaded_model.predict(feature)\n",
        "prediction"
      ],
      "metadata": {
        "colab": {
          "base_uri": "https://localhost:8080/"
        },
        "id": "AZgHZDVZR8kv",
        "outputId": "a98aa4db-11e8-4213-fb17-7f5a0ab01d36"
      },
      "execution_count": null,
      "outputs": [
        {
          "output_type": "execute_result",
          "data": {
            "text/plain": [
              "array(['calm'], dtype='<U9')"
            ]
          },
          "metadata": {},
          "execution_count": 66
        }
      ]
    }
  ]
}